{
 "cells": [
  {
   "attachments": {},
   "cell_type": "markdown",
   "metadata": {},
   "source": [
    "## Plagiarism checker"
   ]
  },
  {
   "cell_type": "code",
   "execution_count": 2,
   "metadata": {},
   "outputs": [],
   "source": [
    "import numpy as np\n",
    "import matplotlib.pyplot as plt\n",
    "import pandas as pd"
   ]
  },
  {
   "cell_type": "code",
   "execution_count": 3,
   "metadata": {},
   "outputs": [],
   "source": [
    "dataset=pd.read_csv('articles1.csv', encoding='utf-8')"
   ]
  },
  {
   "cell_type": "code",
   "execution_count": 4,
   "metadata": {},
   "outputs": [],
   "source": [
    "content=pd.Series(dataset['content'])\n",
    "content=content.to_numpy()\n",
    "title=pd.Series(dataset[\"title\"])\n",
    "title=title.to_numpy()"
   ]
  },
  {
   "cell_type": "code",
   "execution_count": 5,
   "metadata": {},
   "outputs": [],
   "source": [
    "import re\n",
    "n=len(dataset)\n",
    "corpus=[]\n",
    "for i in range(0, n):\n",
    "    con=content[i]\n",
    "    corpus.append(con)"
   ]
  },
  {
   "cell_type": "code",
   "execution_count": 6,
   "metadata": {},
   "outputs": [],
   "source": [
    "from tkinter import *\n",
    "from sklearn.metrics.pairwise import cosine_similarity\n",
    "from sklearn.feature_extraction.text import CountVectorizer"
   ]
  },
  {
   "cell_type": "code",
   "execution_count": 7,
   "metadata": {},
   "outputs": [],
   "source": [
    "vec=CountVectorizer()"
   ]
  },
  {
   "cell_type": "code",
   "execution_count": 56,
   "metadata": {},
   "outputs": [],
   "source": [
    "def plag_checker():\n",
    "    global index_no\n",
    "    global ind_no\n",
    "    t_inp=title_get.get()\n",
    "    c_inp=content_get.get(\"1.0\", \"end-1c\")\n",
    "    index_no=0\n",
    "    ind_no=0\n",
    "    for i in title:\n",
    "        if t_inp in i:\n",
    "            ind_no=index_no\n",
    "        index_no+=1\n",
    "    \n",
    "    con_g=corpus[ind_no]\n",
    "    input_vec=vec.fit_transform([c_inp]).toarray()\n",
    "    data_vec=vec.transform([con_g]).toarray()\n",
    "    similarities=cosine_similarity(input_vec, data_vec)\n",
    "    accuracy=similarities[0][0]\n",
    "    if accuracy>=0.9:\n",
    "        res_label.config(text=\"Plagarism found at {}%\".format(round(accuracy*100)))\n",
    "    elif accuracy==0.5:\n",
    "        res_label.config(text=\"plagarism found at {}%\".format(round(accuracy*100)))\n",
    "    else:\n",
    "        res_label.config(text=\"plagarism not found\")\n",
    "        \n",
    "def clear_fun():\n",
    "    res_label.config(text=\"\")\n",
    "    title_get.delete(0,'end')\n",
    "    content_get.delete('1.0','end')\n",
    "\n",
    "\n",
    "win=Tk()\n",
    "win.geometry(\"400x400\")\n",
    "win.title(\"Plagiarism checker\")\n",
    "win.minsize(400, 400)\n",
    "win.maxsize(400, 400)\n",
    "\n",
    "l1=Label(win,text=\"Input your tiltle: \")\n",
    "l1.place(x=5,y=10)\n",
    "\n",
    "title_get= Entry(win, width=53, bd=3)\n",
    "title_get.place(x=10,y=40)\n",
    "\n",
    "l2=Label(win, text=\"Enter your content: \")\n",
    "l2.place(x=5,y=80)\n",
    "\n",
    "content_get= Text(win,width=40,height=10 , bd=3)\n",
    "content_get.place(x=10,y=120)\n",
    "\n",
    "check_bt= Button(win, text=\"Check\", width=10, bd=5,bg='cyan', command=plag_checker)\n",
    "check_bt.place(x=10,y=290)\n",
    "\n",
    "clear_btn=Button(win, text=\"Clear\", width=10, bd=5,bg='Blue', command=clear_fun)\n",
    "clear_btn.place(x=100,y=290)\n",
    "\n",
    "res_label=Label(win, text=\"\", width=20,bd=3)\n",
    "res_label.place(x=10,y=340)\n",
    "\n",
    "win.mainloop()"
   ]
  }
 ],
 "metadata": {
  "kernelspec": {
   "display_name": "Python 3",
   "language": "python",
   "name": "python3"
  },
  "language_info": {
   "codemirror_mode": {
    "name": "ipython",
    "version": 3
   },
   "file_extension": ".py",
   "mimetype": "text/x-python",
   "name": "python",
   "nbconvert_exporter": "python",
   "pygments_lexer": "ipython3",
   "version": "3.10.9"
  },
  "orig_nbformat": 4,
  "vscode": {
   "interpreter": {
    "hash": "6948e0ed4bcd53bdfd2320becdc7e7857f53e1feee34d614a3b235d086998cbe"
   }
  }
 },
 "nbformat": 4,
 "nbformat_minor": 2
}
